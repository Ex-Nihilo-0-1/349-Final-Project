{
 "cells": [
  {
   "cell_type": "code",
   "execution_count": null,
   "metadata": {},
   "outputs": [],
   "source": [
    "import requests as r\n",
    "from bs4 import BeautifulSoup\n",
    "import csv\n",
    "import copy\n",
    "import misc\n",
    "import data_processing\n",
    "from importlib import reload\n",
    "import pandas as pd\n",
    "import numpy as np\n",
    "reload(data_processing)\n",
    "reload(misc)\n",
    "pd.set_option('display.max_columns', 100)\n",
    "\n",
    "\n"
   ]
  },
  {
   "cell_type": "markdown",
   "metadata": {},
   "source": [
    "## PCA for Exploratory Data Analysis"
   ]
  },
  {
   "cell_type": "code",
   "execution_count": null,
   "metadata": {},
   "outputs": [],
   "source": [
    "from sklearn.decomposition import PCA\n",
    "import matplotlib.pyplot as plt\n",
    "from mpl_toolkits.mplot3d import Axes3D \n",
    "\n",
    "%matplotlib widget \n",
    "\n",
    "target, data = data_processing.read_data(\"training_data_long.csv\", mode = \"List\")\n",
    "print(data.shape)\n",
    "\n",
    "pca = PCA()\n",
    "pca.fit(data)\n",
    "#print(pca.explained_variance_ratio_)\n",
    "pca.components_\n",
    "transformed = pca.transform(data)\n",
    "xs=transformed[:,0]\n",
    "ys=transformed[:,1]\n",
    "zs =transformed[:,2]\n",
    "\n",
    "fig = plt.figure(figsize=(10, 10)) \n",
    "Axes3D(fig) \n",
    "ax = fig.add_subplot(projection='3d')\n",
    "fig.patch.set_facecolor('white')\n",
    "target = np.array(target)\n",
    "indices = np.where(target == 'D')\n",
    "ax.scatter(xs[indices], ys[indices], zs[indices], c=\"Blue\", s=0.05, alpha = 0.3)\n",
    "indices = np.where(target == 'R')\n",
    "ax.scatter(xs[indices], ys[indices], zs[indices], c=\"Red\", s=0.05, alpha = 0.3)\n",
    "\n",
    "plt.xlabel(\"First Principal Component\",fontsize=14)\n",
    "plt.ylabel(\"Second Principal Component\",fontsize=14)\n",
    "plt.legend()\n",
    "plt.show()\n"
   ]
  }
 ],
 "metadata": {
  "kernelspec": {
   "display_name": "base",
   "language": "python",
   "name": "python3"
  },
  "language_info": {
   "codemirror_mode": {
    "name": "ipython",
    "version": 3
   },
   "file_extension": ".py",
   "mimetype": "text/x-python",
   "name": "python",
   "nbconvert_exporter": "python",
   "pygments_lexer": "ipython3",
   "version": "3.12.4"
  }
 },
 "nbformat": 4,
 "nbformat_minor": 2
}
