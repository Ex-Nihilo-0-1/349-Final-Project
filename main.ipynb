{
 "cells": [
  {
   "cell_type": "markdown",
   "metadata": {},
   "source": [
    "## Data Pipeline ##\n",
    "\n",
    "We use a web crawler to download from Wikipedia county-level election results for all but two states from 1972 to 2008 (9 elections). This is done using the `get_past_ten_elections_all_states()` function in `data_processing.py`. Then, we integrate these data with detailed county-level economic data from the Bureau of Economic Analysis (bea.gov) which contains 24 indicators for each county from 1969 to 2023, resulting in the training data (d's) of the below form:\n",
    "\n",
    "d = \n",
    "\n",
    "{\n",
    "    \n",
    "Name of County (C), \n",
    "\n",
    "Election Year (EY), \n",
    "\n",
    "Winning Party in EY,\n",
    "\n",
    "Economic Indicator #1-#24 one year before EY, \n",
    "\n",
    "Economic Indicator #1-#24 two years before EY, \n",
    "\n",
    "Economic Indicator #1-#24 three years before EY\n",
    "\n",
    "}\n",
    "\n",
    "d's then are normalized, adjusted for inflation, and stored in `training_data_long.csv`, which consists of 27925 such d's. We load these and split them into training, valid, and test sets.\n",
    "\n"
   ]
  },
  {
   "cell_type": "markdown",
   "metadata": {},
   "source": [
    "## PCA for Exploratory Data Analysis ##\n",
    "\n",
    "Run the code to see results below. Red dots are d's with winning party being Republican, and blue dots are d's with winning party being Democrats. After twisting the interactive plot a while (the plot below isn't interactive. For that, run `eda.py` from terminal), there does show some separation along some directions, but not a lot."
   ]
  },
  {
   "cell_type": "code",
   "execution_count": null,
   "metadata": {},
   "outputs": [],
   "source": [
    "import eda\n",
    "reload(eda)\n",
    "eda.main()"
   ]
  },
  {
   "cell_type": "markdown",
   "metadata": {},
   "source": [
    "## Description of the Task\n",
    "\n",
    "Predict county level presidential election results based on historical economic data. Take 2024 as an example. The goal is to build a model that takes the economic data of 2021, 2022, 2023 of a county as input, and gives \"R\" or \"D\" as output.  \n",
    "\n"
   ]
  },
  {
   "cell_type": "markdown",
   "metadata": {},
   "source": [
    "## Results \n",
    "\n",
    "For the details of model and how it's trained, refer to `train()` and `main()` functions of `training.py`. But at best, we have 0.96 training accuracy and 0.83 validation accuracy (see its training curves below drawn using TensorBoard). This is the result of setting `lr = 0.0025, epochs = 3000, training_accuracy_threshold(stops after) = 0.95, batchsize = len(training_set)`\n",
    "\n",
    "The specification of the neural network is as follows:\n",
    "\n",
    "'''\n",
    " model = torch.nn.Sequential(\n",
    "        torch.nn.Linear(72, 256, bias = True),\n",
    "        torch.nn.LeakyReLU(),\n",
    "        torch.nn.Linear(256, 512),\n",
    "        torch.nn.LeakyReLU(),\n",
    "        torch.nn.Linear(512, 256),\n",
    "        torch.nn.LeakyReLU(),\n",
    "        torch.nn.Linear(256, 256),\n",
    "        torch.nn.LeakyReLU(),\n",
    "        torch.nn.Linear(256, 1),\n",
    "        torch.nn.Sigmoid(),\n",
    "        \n",
    "    )\n",
    "\n",
    "    \n",
    "    hparams = {\"Epochs\": 3000, \"LR\": 0.0025, \"Threshold\": 0.95, \"Batch Size\": int(len(training_set)/1)}\n",
    "'''\n",
    "\n",
    "\n",
    "To see the live results, run the cell block below, and run the following command in terminal (requires tensorboard) `% tensorboard --logdir=runs`\n",
    "\n",
    "\n",
    "**Loss**\n",
    "<div>\n",
    "    <img src=\"loss.png\" width=\"1000\"/>\n",
    "</div>\n",
    "\n",
    "**Training Accuracy**\n",
    "\n",
    "<div>\n",
    "    <img src=\"training.png\" width=\"1000\"/>\n",
    "</div>\n",
    "\n",
    "\n",
    "**Validation Accuracy**\n",
    "\n",
    "<div>\n",
    "    <img src=\"valid.png\" width=\"1000\"/>\n",
    "</div>\n",
    "\n",
    "\n"
   ]
  },
  {
   "cell_type": "code",
   "execution_count": null,
   "metadata": {},
   "outputs": [],
   "source": [
    "import training\n",
    "reload(training)\n",
    "training.main()"
   ]
  },
  {
   "cell_type": "markdown",
   "metadata": {},
   "source": [
    "## Analyzing the Results\n",
    "\n",
    "1. So far, the training set contains only data with EY ranging from 1972-2008. So, we'll incorporate data with EY being 2012, 2016, 2020, as well. We have written the function requisite for it in `data_processing.py` and `crawl.py`\n",
    "\n",
    "2. Add BEA.gov's CAINC4 data, which contains a couple dozens more economic indicators, to training data.\n",
    "\n",
    "3. Add field: \"Economic indicators four years before EY\" to d's. \n",
    "\n",
    "3. Test the model on 2024 Election, and visualize prediction with a US map. "
   ]
  }
 ],
 "metadata": {
  "kernelspec": {
   "display_name": "base",
   "language": "python",
   "name": "python3"
  },
  "language_info": {
   "codemirror_mode": {
    "name": "ipython",
    "version": 3
   },
   "file_extension": ".py",
   "mimetype": "text/x-python",
   "name": "python",
   "nbconvert_exporter": "python",
   "pygments_lexer": "ipython3",
   "version": "3.12.4"
  }
 },
 "nbformat": 4,
 "nbformat_minor": 2
}
