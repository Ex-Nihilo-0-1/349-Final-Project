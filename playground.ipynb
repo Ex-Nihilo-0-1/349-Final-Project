{
 "cells": [
  {
   "cell_type": "code",
   "execution_count": 3,
   "metadata": {},
   "outputs": [
    {
     "data": {
      "text/plain": [
       "<module 'misc' from '/Users/zixuanwu/Library/CloudStorage/OneDrive-Personal/CS/Fall 2024/CS349/349-Final-Project/misc.py'>"
      ]
     },
     "execution_count": 3,
     "metadata": {},
     "output_type": "execute_result"
    }
   ],
   "source": [
    "import requests as r\n",
    "from bs4 import BeautifulSoup\n",
    "import csv\n",
    "import copy\n",
    "import misc\n",
    "import data_processing\n",
    "from importlib import reload\n",
    "reload(data_processing)\n",
    "reload(misc)\n",
    "\n",
    "\n"
   ]
  },
  {
   "cell_type": "code",
   "execution_count": 32,
   "metadata": {},
   "outputs": [],
   "source": [
    "with open('training_data.csv', 'r') as file:\n",
    "    csv_reader = csv.DictReader(file)\n",
    "    data = list(csv_reader)\n",
    "\n",
    "data = list(filter(lambda d: len(d.keys()) - len(list(filter(None, list(d.values())))) <=5 , data))\n",
    "with open('training_data_clean.csv', 'w') as csvfile:\n",
    "    writer = csv.DictWriter(csvfile, fieldnames=list(data[0].keys()))\n",
    "    writer.writeheader()\n",
    "    writer.writerows(data)\n",
    "  \n"
   ]
  },
  {
   "cell_type": "code",
   "execution_count": null,
   "metadata": {},
   "outputs": [],
   "source": [
    "print(len(data), \"Length before trimming\")\n",
    "for _ in data:\n",
    "    if len(list(filter(None, _.values()))) < len(list(data[0].keys())):\n",
    "        print(_[\"State\"], _[\"County\"], _[\"Year\"])\n",
    "        data.remove(_)\n",
    "print(len(data), \"Length after trimming\")\n",
    "\n",
    "with open('training_data_clean.csv', 'w') as csvfile:\n",
    "    writer = csv.DictWriter(csvfile, fieldnames=list(data[0].keys()))\n",
    "    writer.writeheader()\n",
    "    writer.writerows(data)\n",
    "  \n"
   ]
  },
  {
   "cell_type": "code",
   "execution_count": 45,
   "metadata": {},
   "outputs": [
    {
     "data": {
      "text/plain": [
       "[]"
      ]
     },
     "execution_count": 45,
     "metadata": {},
     "output_type": "execute_result"
    }
   ],
   "source": [
    "al = list(filter(lambda d: d[\"State\"] == \"Alabama\" and d[\"County\"] == \"Winston\" and d[\"Year\"] == 1996, data))\n",
    "al"
   ]
  },
  {
   "cell_type": "code",
   "execution_count": 56,
   "metadata": {},
   "outputs": [
    {
     "data": {
      "text/plain": [
       "1"
      ]
     },
     "execution_count": 56,
     "metadata": {},
     "output_type": "execute_result"
    }
   ],
   "source": [
    "len({\"Key\": 1}.values())"
   ]
  }
 ],
 "metadata": {
  "kernelspec": {
   "display_name": "base",
   "language": "python",
   "name": "python3"
  },
  "language_info": {
   "codemirror_mode": {
    "name": "ipython",
    "version": 3
   },
   "file_extension": ".py",
   "mimetype": "text/x-python",
   "name": "python",
   "nbconvert_exporter": "python",
   "pygments_lexer": "ipython3",
   "version": "3.12.4"
  }
 },
 "nbformat": 4,
 "nbformat_minor": 2
}
