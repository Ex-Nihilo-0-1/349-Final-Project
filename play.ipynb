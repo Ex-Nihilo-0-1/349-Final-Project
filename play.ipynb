{
 "cells": [
  {
   "cell_type": "code",
   "execution_count": 43,
   "metadata": {},
   "outputs": [],
   "source": [
    "import torch\n",
    "import pandas as pd\n",
    "from training import *\n",
    "from data_processing import *\n",
    "import os\n",
    "pd.set_option('display.max_rows', 100) \n",
    "pd.set_option('display.max_columns', 100) \n",
    "data = read_data('2024_data.csv')\n",
    "file_list = os.listdir('./models')\n",
    "accuracies = []\n",
    "\n",
    "# for _ in data:\n",
    "#     dataset += [list(_.values())]\n",
    "# ddataset = []\n",
    "# dataset[1]\n",
    "# for _ in dataset:\n",
    "#     try:\n",
    "#         ddataset += [list(map(float, _[4:-1]))]\n",
    "#     except Exception:\n",
    "#         pass\n",
    "\n",
    "# def handle(idx, ddataset):\n",
    "#     example = torch.tensor(ddataset[idx])\n",
    "#     return model(example), dataset[idx][1:3]\n",
    "\n",
    "def predict_county_result(state, county):\n",
    "    df = pd.DataFrame(data)\n",
    "    arr = np.array(df.loc[(df['State'] == state) & (df['County'] == county)].values[0][4:-1]).astype(np.float32)\n",
    "    input = torch.tensor(arr)\n",
    "    return model(input)\n"
   ]
  },
  {
   "cell_type": "code",
   "execution_count": 45,
   "metadata": {},
   "outputs": [
    {
     "name": "stdout",
     "output_type": "stream",
     "text": [
      "0.8793565683646113 2984\n",
      "0.864946380697051 2984\n",
      "0.8803619302949062 2984\n",
      "0.864946380697051 2984\n",
      "0.8910857908847185 2984\n",
      "0.8411528150134048 2984\n",
      "0.8166890080428955 2984\n",
      "0.6843163538873994 2984\n",
      "0.8884048257372654 2984\n",
      "0.864946380697051 2984\n",
      "0.8870643431635389 2984\n",
      "0.864946380697051 2984\n"
     ]
    }
   ],
   "source": [
    "for f in file_list:\n",
    "    try:\n",
    "        model = torch.load('./models/' + f)\n",
    "        model.eval()\n",
    "        \n",
    "        data1 = read_data('foo')\n",
    "        training_set = [list(d.values()) for d in data1]\n",
    "        dataset = []\n",
    "        target = []\n",
    "        for d in training_set:\n",
    "            try:\n",
    "                dataset += [list(map(float, d[4:-2]))]\n",
    "                target += [[0.] if d[-1] == \"D\" else [1.]]\n",
    "            except Exception as e:\n",
    "                pass\n",
    "        tensors = data_set(dataset, target)\n",
    "        data = tensors.data\n",
    "\n",
    "\n",
    "        labels = np.array(tensors.labels.tolist())\n",
    "        results = model(data).tolist()\n",
    "        results = np.array([[1] if x[0] > 0.5 else [0] for x in results])\n",
    "        accuracy = np.sum(labels == results)/len(labels)\n",
    "        print(accuracy, len(labels))\n",
    "    except Exception as e:\n",
    "        pass"
   ]
  },
  {
   "cell_type": "code",
   "execution_count": null,
   "metadata": {},
   "outputs": [],
   "source": []
  },
  {
   "cell_type": "code",
   "execution_count": 85,
   "metadata": {},
   "outputs": [
    {
     "data": {
      "text/plain": [
       "(tensor([3.7353e-02, 3.5772e-02, 3.3312e-02, 3.2071e-02, 2.9370e-02, 2.7832e-02,\n",
       "         2.5456e-02, 2.4918e-02, 4.2503e-02, 4.1130e-02, 3.6232e-02, 3.3261e-02,\n",
       "         1.3765e-02, 2.0940e-02, 1.8668e-02, 1.6797e-02, 1.8209e-02, 4.7909e-03,\n",
       "         9.4005e-03, 8.9696e-03, 4.7392e-02, 4.5473e-02, 4.3580e-02, 4.2488e-02,\n",
       "         5.6237e-02, 5.5621e-02, 5.5393e-02, 5.4082e-02, 8.8353e-02, 9.3139e-02,\n",
       "         1.0357e-01, 1.1541e-01, 1.4519e-01, 1.9007e-01, 1.6321e-01, 2.0314e-01,\n",
       "         3.6210e-01, 3.6293e-01, 3.6788e-01, 3.8949e-01, 8.0976e-02, 1.2225e-01,\n",
       "         1.2877e-01, 1.3228e-01, 1.2024e-01, 1.4164e-02, 1.0834e-01, 1.2381e-01,\n",
       "         3.9292e-01, 3.9204e-01, 4.0404e-01, 3.8806e-01, 4.8688e-02, 5.1007e-02,\n",
       "         5.9935e-02, 6.4843e-02, 2.2996e-02, 2.1590e-02, 2.0857e-02, 2.0250e-02,\n",
       "         2.3400e-02, 2.1833e-02, 2.1165e-02, 2.0717e-02, 2.1998e-02, 1.9949e-02,\n",
       "         1.9262e-02, 1.8821e-02, 2.1179e-02, 1.8844e-02, 1.8148e-02, 1.7840e-02,\n",
       "         2.3740e-02, 2.2342e-02, 2.1837e-02, 2.1170e-02, 2.3669e-02, 2.5266e-02,\n",
       "         2.1623e-02, 2.1730e-02, 4.3292e-01, 1.2416e-01, 8.8409e-02, 9.4388e-02,\n",
       "         1.3213e+06, 1.2413e+06, 1.2675e+06, 1.2473e+06, 6.4096e+04, 6.0275e+04,\n",
       "         5.7948e+04, 5.4201e+04, 4.5642e-02, 4.4150e-02, 4.2170e-02, 4.0185e-02]),\n",
       " tensor([[5.8563e-04, 6.1521e-04, 5.8936e-04, 4.8657e-04, 6.4015e-04, 7.0910e-04,\n",
       "          7.0769e-04, 6.0404e-04, 6.3832e-04, 5.5000e-04, 4.8924e-04, 3.9831e-04,\n",
       "          1.0976e-03, 1.0194e-03, 8.1888e-04, 8.1432e-04, 1.0763e-03, 1.9986e-04,\n",
       "          1.6118e-04, 2.3843e-04, 5.1949e-04, 4.6845e-04, 4.3067e-04, 3.3075e-04,\n",
       "          3.6749e-04, 3.6691e-04, 3.0903e-04, 2.6453e-04, 4.2794e-02, 5.6061e-02,\n",
       "          5.0517e-02, 4.1127e-02, 1.1923e-01, 1.0461e-01, 1.5259e-01, 1.5371e-01,\n",
       "          1.4400e-01, 1.2399e-01, 1.0780e-01, 9.1304e-02, 2.1587e-01, 2.1240e-01,\n",
       "          1.7637e-01, 1.6007e-01, 1.3236e-01, 3.9935e-02, 1.6168e-02, 3.0565e-02,\n",
       "          1.0213e-01, 9.2107e-02, 8.1332e-02, 6.2945e-02, 8.5439e-03, 1.1132e-02,\n",
       "          8.2251e-03, 6.3816e-03, 6.1194e-04, 6.7742e-04, 6.7143e-04, 5.6283e-04,\n",
       "          4.6194e-04, 5.0343e-04, 4.9437e-04, 4.5846e-04, 3.4643e-04, 3.3927e-04,\n",
       "          3.1894e-04, 2.7772e-04, 2.7568e-04, 2.5248e-04, 2.3973e-04, 2.2952e-04,\n",
       "          5.1310e-04, 5.4907e-04, 5.1150e-04, 3.9606e-04, 1.4027e-02, 2.3113e-02,\n",
       "          4.2173e-02, 9.3286e-02, 1.0958e-01, 7.8392e-02, 9.2108e-02, 1.1183e-01,\n",
       "          1.2986e-02, 2.2340e-02, 4.0906e-02, 9.2569e-02, 4.2794e-02, 5.6061e-02,\n",
       "          5.0517e-02, 4.1127e-02, 1.8362e-03, 1.8295e-03, 1.8421e-03, 1.8547e-03]]))"
      ]
     },
     "execution_count": 85,
     "metadata": {},
     "output_type": "execute_result"
    }
   ],
   "source": [
    "data = read_data('training_data_extended.csv')\n",
    "model = torch.load(\"./models/{'Epochs': 3000, 'LR': 0.0025, 'Threshold': 0.95, 'Batch Size': 35848}2024-12-09 21:32:34.808664.pth\")\n",
    "model.eval()\n",
    "example2 = data_to_tensor([list(data[99].values())]).data\n",
    "example2\n",
    "example, example2\n"
   ]
  },
  {
   "cell_type": "code",
   "execution_count": null,
   "metadata": {},
   "outputs": [],
   "source": []
  },
  {
   "cell_type": "code",
   "execution_count": 204,
   "metadata": {},
   "outputs": [
    {
     "data": {
      "text/plain": [
       "True"
      ]
     },
     "execution_count": 204,
     "metadata": {},
     "output_type": "execute_result"
    }
   ],
   "source": [
    "[1,2] < [1,3,3]"
   ]
  },
  {
   "cell_type": "code",
   "execution_count": null,
   "metadata": {},
   "outputs": [],
   "source": []
  },
  {
   "cell_type": "code",
   "execution_count": 24,
   "metadata": {},
   "outputs": [
    {
     "data": {
      "text/plain": [
       "102"
      ]
     },
     "execution_count": 24,
     "metadata": {},
     "output_type": "execute_result"
    }
   ],
   "source": [
    "data_2024 = read_data('2024-12-10 02:16:46.973254')\n",
    "df_2024 = pd.DataFrame(data_2024)\n",
    "data = read_data('training_data_extended.csv')\n",
    "df = pd.DataFrame(data)\n",
    "len(df.columns)"
   ]
  }
 ],
 "metadata": {
  "kernelspec": {
   "display_name": "base",
   "language": "python",
   "name": "python3"
  },
  "language_info": {
   "codemirror_mode": {
    "name": "ipython",
    "version": 3
   },
   "file_extension": ".py",
   "mimetype": "text/x-python",
   "name": "python",
   "nbconvert_exporter": "python",
   "pygments_lexer": "ipython3",
   "version": "3.12.4"
  }
 },
 "nbformat": 4,
 "nbformat_minor": 2
}
