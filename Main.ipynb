{
 "cells": [
  {
   "cell_type": "code",
   "execution_count": null,
   "metadata": {},
   "outputs": [],
   "source": [
    "import requests as r\n",
    "from bs4 import BeautifulSoup\n",
    "import csv\n",
    "\n",
    "from importlib import reload\n",
    "import state_vote_results\n",
    "reload(state_vote_results)\n",
    "\n",
    "\n",
    "states = state_vote_results.get_state_list()\n",
    "presidents = state_vote_results.get_president(3) \n",
    "\n",
    "\n"
   ]
  },
  {
   "cell_type": "code",
   "execution_count": null,
   "metadata": {},
   "outputs": [
    {
     "name": "stdout",
     "output_type": "stream",
     "text": [
      "An error occurred: cannot access local variable 'counties' where it is not associated with a value\n",
      "Alaska 2008\n",
      "An error occurred: cannot access local variable 'counties' where it is not associated with a value\n",
      "Alaska 2004\n",
      "An error occurred: cannot access local variable 'counties' where it is not associated with a value\n",
      "Alaska 2000\n",
      "An error occurred: cannot access local variable 'counties' where it is not associated with a value\n",
      "Alaska 1996\n",
      "An error occurred: cannot access local variable 'counties' where it is not associated with a value\n",
      "Alaska 1992\n",
      "An error occurred: cannot access local variable 'counties' where it is not associated with a value\n",
      "Alaska 1988\n",
      "An error occurred: cannot access local variable 'counties' where it is not associated with a value\n",
      "Alaska 1984\n",
      "An error occurred: cannot access local variable 'counties' where it is not associated with a value\n",
      "Alaska 1980\n",
      "An error occurred: cannot access local variable 'counties' where it is not associated with a value\n",
      "Alaska 1976\n",
      "An error occurred: cannot access local variable 'counties' where it is not associated with a value\n",
      "Alaska 1972\n",
      "An error occurred: cannot access local variable 'counties' where it is not associated with a value\n",
      "District of Columbia 2008\n",
      "An error occurred: cannot access local variable 'counties' where it is not associated with a value\n",
      "District of Columbia 2004\n",
      "An error occurred: cannot access local variable 'counties' where it is not associated with a value\n",
      "District of Columbia 2000\n",
      "An error occurred: cannot access local variable 'counties' where it is not associated with a value\n",
      "District of Columbia 1996\n",
      "An error occurred: cannot access local variable 'counties' where it is not associated with a value\n",
      "District of Columbia 1992\n",
      "An error occurred: cannot access local variable 'counties' where it is not associated with a value\n",
      "District of Columbia 1988\n",
      "An error occurred: cannot access local variable 'counties' where it is not associated with a value\n",
      "District of Columbia 1984\n",
      "An error occurred: cannot access local variable 'counties' where it is not associated with a value\n",
      "District of Columbia 1980\n",
      "An error occurred: cannot access local variable 'counties' where it is not associated with a value\n",
      "District of Columbia 1976\n",
      "An error occurred: cannot access local variable 'counties' where it is not associated with a value\n",
      "District of Columbia 1972\n",
      "An error occurred: cannot access local variable 'counties' where it is not associated with a value\n",
      "Florida 1996\n",
      "An error occurred: cannot access local variable 'counties' where it is not associated with a value\n",
      "Florida 1992\n",
      "An error occurred: cannot access local variable 'counties' where it is not associated with a value\n",
      "Florida 1984\n",
      "An error occurred: cannot access local variable 'counties' where it is not associated with a value\n",
      "Louisiana 2008\n",
      "An error occurred: cannot access local variable 'counties' where it is not associated with a value\n",
      "Louisiana 2004\n",
      "An error occurred: cannot access local variable 'counties' where it is not associated with a value\n",
      "Louisiana 2000\n",
      "An error occurred: cannot access local variable 'counties' where it is not associated with a value\n",
      "Louisiana 1996\n",
      "An error occurred: cannot access local variable 'counties' where it is not associated with a value\n",
      "Louisiana 1992\n",
      "An error occurred: cannot access local variable 'counties' where it is not associated with a value\n",
      "Louisiana 1988\n",
      "An error occurred: cannot access local variable 'counties' where it is not associated with a value\n",
      "Louisiana 1984\n",
      "An error occurred: cannot access local variable 'counties' where it is not associated with a value\n",
      "Louisiana 1980\n",
      "An error occurred: cannot access local variable 'counties' where it is not associated with a value\n",
      "Louisiana 1976\n",
      "An error occurred: cannot access local variable 'counties' where it is not associated with a value\n",
      "Louisiana 1972\n",
      "An error occurred: cannot access local variable 'counties' where it is not associated with a value\n",
      "Mississippi 2004\n",
      "An error occurred: cannot access local variable 'counties' where it is not associated with a value\n",
      "Washington 2008\n",
      "An error occurred: cannot access local variable 'counties' where it is not associated with a value\n",
      "Washington 2004\n",
      "An error occurred: cannot access local variable 'counties' where it is not associated with a value\n",
      "Washington 2000\n",
      "An error occurred: cannot access local variable 'counties' where it is not associated with a value\n",
      "Washington 1996\n",
      "An error occurred: cannot access local variable 'counties' where it is not associated with a value\n",
      "Washington 1992\n",
      "An error occurred: cannot access local variable 'counties' where it is not associated with a value\n",
      "Washington 1988\n",
      "An error occurred: cannot access local variable 'counties' where it is not associated with a value\n",
      "Washington 1984\n",
      "An error occurred: cannot access local variable 'counties' where it is not associated with a value\n",
      "Washington 1980\n",
      "An error occurred: cannot access local variable 'counties' where it is not associated with a value\n",
      "Washington 1976\n",
      "An error occurred: cannot access local variable 'counties' where it is not associated with a value\n",
      "Washington 1972\n"
     ]
    }
   ],
   "source": [
    "def get_past_ten_elections_by_county(state):\n",
    "    results = []\n",
    "    for i in range (10):\n",
    "        try:\n",
    "            results += state_vote_results.get_county_results(state, 2008 - 4*i)\n",
    "        except Exception as e:\n",
    "            print(f\"An error occurred: {e}\")\n",
    "            print(state, 2008 - 4*i)\n",
    "    return results\n",
    "#county = state_vote_results.get_county_results(\"Texas\")[14].find(\"td\")\n",
    "\n",
    "#county_color = county.attrs[\"style\"].split(\"background-color:\")[1].split(\";\")[0]\n",
    "#if county_color == \"#FFB6B6\":\n",
    "#  county_party = 'R'\n",
    "#else:\n",
    "#    county_party = 'D'\n",
    "#county_name = county.text.strip(\"\\n\")\n",
    "#county_party, county_name\n",
    "results = []\n",
    "for state in states:\n",
    "    results += get_past_ten_elections_by_county(state)\n",
    "\n"
   ]
  },
  {
   "cell_type": "code",
   "execution_count": 72,
   "metadata": {},
   "outputs": [],
   "source": [
    "#目前州选举县级结果\n",
    "import csv\n",
    "results\n",
    "with open('by_county.csv', 'w') as csvfile:\n",
    "    writer = csv.DictWriter(csvfile, fieldnames=['State', 'Year', 'County', 'Party'])\n",
    "    writer.writeheader()\n",
    "    writer.writerows(results)"
   ]
  },
  {
   "cell_type": "code",
   "execution_count": null,
   "metadata": {},
   "outputs": [
    {
     "data": {
      "text/plain": [
       "{('A', 'x'): [1, 2, 3],\n",
       " ('A', 'y'): [4, 5, 6],\n",
       " ('B', 'x'): [7, 8, 9],\n",
       " ('B', 'y'): [10, 11, 12]}"
      ]
     },
     "execution_count": 62,
     "metadata": {},
     "output_type": "execute_result"
    }
   ],
   "source": [
    "import pandas as pd\n",
    "\n",
    "data = {\n",
    "    ('A', 'x'): [1, 2, 3],\n",
    "    ('A', 'y'): [4, 5, 6],\n",
    "    ('B', 'x'): [7, 8, 9],\n",
    "    ('B', 'y'): [10, 11, 12]\n",
    "}\n",
    "\n",
    "df = pd.DataFrame(data)\n",
    "data\n"
   ]
  }
 ],
 "metadata": {
  "kernelspec": {
   "display_name": "base",
   "language": "python",
   "name": "python3"
  },
  "language_info": {
   "codemirror_mode": {
    "name": "ipython",
    "version": 3
   },
   "file_extension": ".py",
   "mimetype": "text/x-python",
   "name": "python",
   "nbconvert_exporter": "python",
   "pygments_lexer": "ipython3",
   "version": "3.12.4"
  }
 },
 "nbformat": 4,
 "nbformat_minor": 2
}
